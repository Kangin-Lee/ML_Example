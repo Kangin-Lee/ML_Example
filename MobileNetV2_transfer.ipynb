{
 "cells": [
  {
   "cell_type": "code",
   "execution_count": 1,
   "id": "b58a6fb5-b274-4105-91bb-fe47c6cef33a",
   "metadata": {},
   "outputs": [
    {
     "name": "stdout",
     "output_type": "stream",
     "text": [
      "Requirement already satisfied: tensorflow-datasets in c:\\users\\computer\\anaconda3\\envs\\tf2\\lib\\site-packages (4.9.2)\n",
      "Requirement already satisfied: absl-py in c:\\users\\computer\\anaconda3\\envs\\tf2\\lib\\site-packages (from tensorflow-datasets) (1.4.0)\n",
      "Requirement already satisfied: array-record in c:\\users\\computer\\anaconda3\\envs\\tf2\\lib\\site-packages (from tensorflow-datasets) (0.4.0)\n",
      "Requirement already satisfied: click in c:\\users\\computer\\anaconda3\\envs\\tf2\\lib\\site-packages (from tensorflow-datasets) (8.1.7)\n",
      "Requirement already satisfied: dm-tree in c:\\users\\computer\\anaconda3\\envs\\tf2\\lib\\site-packages (from tensorflow-datasets) (0.1.8)\n",
      "Requirement already satisfied: etils[enp,epath]>=0.9.0 in c:\\users\\computer\\anaconda3\\envs\\tf2\\lib\\site-packages (from tensorflow-datasets) (1.3.0)\n",
      "Requirement already satisfied: numpy in c:\\users\\computer\\anaconda3\\envs\\tf2\\lib\\site-packages (from tensorflow-datasets) (1.24.3)\n",
      "Requirement already satisfied: promise in c:\\users\\computer\\anaconda3\\envs\\tf2\\lib\\site-packages (from tensorflow-datasets) (2.3)\n",
      "Requirement already satisfied: protobuf>=3.20 in c:\\users\\computer\\anaconda3\\envs\\tf2\\lib\\site-packages (from tensorflow-datasets) (3.20.3)\n",
      "Requirement already satisfied: psutil in c:\\users\\computer\\anaconda3\\envs\\tf2\\lib\\site-packages (from tensorflow-datasets) (5.9.5)\n",
      "Requirement already satisfied: requests>=2.19.0 in c:\\users\\computer\\anaconda3\\envs\\tf2\\lib\\site-packages (from tensorflow-datasets) (2.31.0)\n",
      "Requirement already satisfied: tensorflow-metadata in c:\\users\\computer\\anaconda3\\envs\\tf2\\lib\\site-packages (from tensorflow-datasets) (1.14.0)\n",
      "Requirement already satisfied: termcolor in c:\\users\\computer\\anaconda3\\envs\\tf2\\lib\\site-packages (from tensorflow-datasets) (2.3.0)\n",
      "Requirement already satisfied: toml in c:\\users\\computer\\anaconda3\\envs\\tf2\\lib\\site-packages (from tensorflow-datasets) (0.10.2)\n",
      "Requirement already satisfied: tqdm in c:\\users\\computer\\anaconda3\\envs\\tf2\\lib\\site-packages (from tensorflow-datasets) (4.66.1)\n",
      "Requirement already satisfied: wrapt in c:\\users\\computer\\anaconda3\\envs\\tf2\\lib\\site-packages (from tensorflow-datasets) (1.15.0)\n",
      "Requirement already satisfied: importlib-resources in c:\\users\\computer\\anaconda3\\envs\\tf2\\lib\\site-packages (from tensorflow-datasets) (6.0.1)\n",
      "Requirement already satisfied: typing_extensions in c:\\users\\computer\\anaconda3\\envs\\tf2\\lib\\site-packages (from etils[enp,epath]>=0.9.0->tensorflow-datasets) (4.5.0)\n",
      "Requirement already satisfied: zipp in c:\\users\\computer\\anaconda3\\envs\\tf2\\lib\\site-packages (from etils[enp,epath]>=0.9.0->tensorflow-datasets) (3.16.2)\n",
      "Requirement already satisfied: charset-normalizer<4,>=2 in c:\\users\\computer\\anaconda3\\envs\\tf2\\lib\\site-packages (from requests>=2.19.0->tensorflow-datasets) (3.2.0)\n",
      "Requirement already satisfied: idna<4,>=2.5 in c:\\users\\computer\\anaconda3\\envs\\tf2\\lib\\site-packages (from requests>=2.19.0->tensorflow-datasets) (3.4)\n",
      "Requirement already satisfied: urllib3<3,>=1.21.1 in c:\\users\\computer\\anaconda3\\envs\\tf2\\lib\\site-packages (from requests>=2.19.0->tensorflow-datasets) (1.26.16)\n",
      "Requirement already satisfied: certifi>=2017.4.17 in c:\\users\\computer\\anaconda3\\envs\\tf2\\lib\\site-packages (from requests>=2.19.0->tensorflow-datasets) (2023.7.22)\n",
      "Requirement already satisfied: colorama in c:\\users\\computer\\anaconda3\\envs\\tf2\\lib\\site-packages (from click->tensorflow-datasets) (0.4.6)\n",
      "Requirement already satisfied: six in c:\\users\\computer\\anaconda3\\envs\\tf2\\lib\\site-packages (from promise->tensorflow-datasets) (1.16.0)\n",
      "Requirement already satisfied: googleapis-common-protos<2,>=1.52.0 in c:\\users\\computer\\anaconda3\\envs\\tf2\\lib\\site-packages (from tensorflow-metadata->tensorflow-datasets) (1.60.0)\n",
      "Note: you may need to restart the kernel to use updated packages.\n"
     ]
    },
    {
     "name": "stderr",
     "output_type": "stream",
     "text": [
      "WARNING: Ignoring invalid distribution -rotobuf (c:\\users\\computer\\anaconda3\\envs\\tf2\\lib\\site-packages)\n",
      "WARNING: Ignoring invalid distribution -rotobuf (c:\\users\\computer\\anaconda3\\envs\\tf2\\lib\\site-packages)\n"
     ]
    }
   ],
   "source": [
    "pip install tensorflow-datasets"
   ]
  },
  {
   "cell_type": "code",
   "execution_count": 2,
   "id": "75d3b16b-5f29-42a3-8431-7685e6d94ec3",
   "metadata": {},
   "outputs": [],
   "source": [
    "import tensorflow_datasets as tfds\n",
    "tfds.disable_progress_bar()\n",
    "\n",
    "raw_train, raw_test = tfds.load(\n",
    "    'cats_vs_dogs',\n",
    "    split=[\"train[:80%]\", \"train[20%:]\"],\n",
    "    as_supervised =True\n",
    ")"
   ]
  },
  {
   "cell_type": "code",
   "execution_count": 4,
   "id": "9649c93e-b2b7-4ce5-b281-c44d4daafefe",
   "metadata": {},
   "outputs": [],
   "source": [
    "# FeaturesDict({\n",
    "#     'image': Image(shape=(None, None, 3), dtype=tf.unit8),\n",
    "#     'image/filename': Text(shape=(), dtype=tf.string),\n",
    "#     'label': ClassLabel(shape=(), dtype=tf.int64, num_classes=2),\n",
    "# })"
   ]
  },
  {
   "cell_type": "code",
   "execution_count": 5,
   "id": "98d6909e-45e4-4f8d-879a-46b2f77c5cda",
   "metadata": {},
   "outputs": [],
   "source": [
    "import numpy as np\n",
    "import tensorflow as tf\n",
    "from tensorflow.image import ResizeMethod"
   ]
  },
  {
   "cell_type": "code",
   "execution_count": 8,
   "id": "5eb43f51-b3a2-4220-8fee-b75b405c8e60",
   "metadata": {},
   "outputs": [],
   "source": [
    "def preprocess(image, label):\n",
    "    out_image = tf.image.resize(image, [224,224], method = ResizeMethod.BICUBIC)\n",
    "    out_image = tf.keras.applications.mobilenet_v2.preprocess_input(out_image)\n",
    "    return out_image, label\n",
    "batch_size = 32\n",
    "train_batch = raw_train.map(preprocess).batch(batch_size)\n",
    "test_batch = raw_test.map(preprocess).batch(batch_size)"
   ]
  },
  {
   "cell_type": "code",
   "execution_count": 9,
   "id": "baa02237-b450-4e50-920a-9134f9403304",
   "metadata": {},
   "outputs": [
    {
     "name": "stdout",
     "output_type": "stream",
     "text": [
      "Downloading data from https://storage.googleapis.com/tensorflow/keras-applications/mobilenet_v2/mobilenet_v2_weights_tf_dim_ordering_tf_kernels_1.0_224_no_top.h5\n",
      "9406464/9406464 [==============================] - 2s 0us/step\n"
     ]
    }
   ],
   "source": [
    "mobilenet_base = tf.keras.applications.MobileNetV2(\n",
    "    input_shape=(224,224,3),\n",
    "    weights=\"imagenet\",\n",
    "    include_top = False)"
   ]
  },
  {
   "cell_type": "code",
   "execution_count": 10,
   "id": "07f466bf-c2aa-41b3-9972-0bd3c26aaed2",
   "metadata": {},
   "outputs": [
    {
     "name": "stdout",
     "output_type": "stream",
     "text": [
      "Epoch 1/5\n",
      "582/582 [==============================] - 308s 525ms/step - loss: 0.4223 - accuracy: 0.9530\n",
      "Epoch 2/5\n",
      "582/582 [==============================] - 308s 530ms/step - loss: 0.2569 - accuracy: 0.9746\n",
      "Epoch 3/5\n",
      "582/582 [==============================] - 307s 528ms/step - loss: 0.2181 - accuracy: 0.9804\n",
      "Epoch 4/5\n",
      "582/582 [==============================] - 306s 526ms/step - loss: 0.2556 - accuracy: 0.9780\n",
      "Epoch 5/5\n",
      "582/582 [==============================] - 306s 525ms/step - loss: 0.1481 - accuracy: 0.9865\n",
      "582/582 - 307s - loss: 0.1399 - accuracy: 0.9873 - 307s/epoch - 528ms/step\n"
     ]
    },
    {
     "data": {
      "text/plain": [
       "[0.13993947207927704, 0.9873186349868774]"
      ]
     },
     "execution_count": 10,
     "metadata": {},
     "output_type": "execute_result"
    }
   ],
   "source": [
    "mobilenet_base.trainable=False\n",
    "\n",
    "mobilenet_model = tf.keras.Sequential([\n",
    "    mobilenet_base,\n",
    "    tf.keras.layers.GlobalAveragePooling2D(),\n",
    "    tf.keras.layers.Dense(1)\n",
    "])\n",
    "\n",
    "mobilenet_model.compile(optimizer=\"adam\",\n",
    "                        loss = \"binary_crossentropy\",\n",
    "                        metrics=[\"accuracy\"])\n",
    "\n",
    "mobilenet_model.fit(train_batch, epochs=5)\n",
    "mobilenet_model.evaluate(test_batch, verbose=2)"
   ]
  },
  {
   "cell_type": "code",
   "execution_count": null,
   "id": "c02af6e5-cf52-446a-941f-acbe86cd82cc",
   "metadata": {},
   "outputs": [],
   "source": []
  }
 ],
 "metadata": {
  "kernelspec": {
   "display_name": "Python 3 (ipykernel)",
   "language": "python",
   "name": "python3"
  },
  "language_info": {
   "codemirror_mode": {
    "name": "ipython",
    "version": 3
   },
   "file_extension": ".py",
   "mimetype": "text/x-python",
   "name": "python",
   "nbconvert_exporter": "python",
   "pygments_lexer": "ipython3",
   "version": "3.8.17"
  }
 },
 "nbformat": 4,
 "nbformat_minor": 5
}
