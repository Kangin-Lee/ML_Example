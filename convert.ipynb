{
 "cells": [
  {
   "cell_type": "code",
   "execution_count": 1,
   "id": "c9888056-942e-456f-b210-bf0ecb3644d3",
   "metadata": {},
   "outputs": [],
   "source": [
    "import tensorflow as tf"
   ]
  },
  {
   "cell_type": "code",
   "execution_count": 2,
   "id": "ddbdfcef-be3f-42eb-90d5-c08bf2aa0055",
   "metadata": {},
   "outputs": [],
   "source": [
    "mnist = tf.keras.datasets.mnist"
   ]
  },
  {
   "cell_type": "code",
   "execution_count": 3,
   "id": "ef196d21-3f7a-4014-bb30-2b3035d90dc6",
   "metadata": {},
   "outputs": [],
   "source": [
    "(x_train, y_train), (x_test, y_test) = mnist.load_data()"
   ]
  },
  {
   "cell_type": "code",
   "execution_count": 4,
   "id": "8aaef526-997b-48b7-a907-d256dcc0cea4",
   "metadata": {},
   "outputs": [],
   "source": [
    "x_train, x_test = x_train / 255.0, x_test / 255.0"
   ]
  },
  {
   "cell_type": "code",
   "execution_count": 5,
   "id": "49783565-1966-4305-81ea-38268ed10d0e",
   "metadata": {},
   "outputs": [],
   "source": [
    "mlp_model = tf.keras.models.Sequential([\n",
    "    tf.keras.layers.Flatten(input_shape=(28,28)),\n",
    "    tf.keras.layers.Dense(128,activation = \"relu\"),\n",
    "    tf.keras.layers.Dense(10, activation=\"softmax\")\n",
    "])"
   ]
  },
  {
   "cell_type": "code",
   "execution_count": 6,
   "id": "bcadb508-74af-404e-b24c-9c0358cbedb7",
   "metadata": {},
   "outputs": [],
   "source": [
    "mlp_model.compile(optimizer=\"adam\", loss = \"sparse_categorical_crossentropy\", metrics=[\"accuracy\"])"
   ]
  },
  {
   "cell_type": "code",
   "execution_count": 7,
   "id": "e03ed5c6-44b4-4fad-b199-89f75cc0ffa9",
   "metadata": {},
   "outputs": [
    {
     "name": "stdout",
     "output_type": "stream",
     "text": [
      "Epoch 1/5\n",
      "1875/1875 [==============================] - 4s 2ms/step - loss: 0.2682 - accuracy: 0.9233\n",
      "Epoch 2/5\n",
      "1875/1875 [==============================] - 3s 2ms/step - loss: 0.1157 - accuracy: 0.9658\n",
      "Epoch 3/5\n",
      "1875/1875 [==============================] - 3s 2ms/step - loss: 0.0804 - accuracy: 0.9758\n",
      "Epoch 4/5\n",
      "1875/1875 [==============================] - 3s 2ms/step - loss: 0.0586 - accuracy: 0.9814\n",
      "Epoch 5/5\n",
      "1875/1875 [==============================] - 3s 2ms/step - loss: 0.0456 - accuracy: 0.9857\n"
     ]
    },
    {
     "data": {
      "text/plain": [
       "<keras.src.callbacks.History at 0x2d780015b20>"
      ]
     },
     "execution_count": 7,
     "metadata": {},
     "output_type": "execute_result"
    }
   ],
   "source": [
    "mlp_model.fit(x_train, y_train, epochs=5)"
   ]
  },
  {
   "cell_type": "code",
   "execution_count": 8,
   "id": "904d218a-b9c0-4756-b552-aa937720f13c",
   "metadata": {},
   "outputs": [
    {
     "name": "stdout",
     "output_type": "stream",
     "text": [
      "INFO:tensorflow:Assets written to: C:\\Users\\Public\\Documents\\ESTsoft\\CreatorTemp\\tmpjg_kmqgx\\assets\n"
     ]
    },
    {
     "name": "stderr",
     "output_type": "stream",
     "text": [
      "INFO:tensorflow:Assets written to: C:\\Users\\Public\\Documents\\ESTsoft\\CreatorTemp\\tmpjg_kmqgx\\assets\n"
     ]
    }
   ],
   "source": [
    "converter = tf.lite.TFLiteConverter.from_keras_model(mlp_model)\n",
    "tflite_model = converter.convert()"
   ]
  },
  {
   "cell_type": "code",
   "execution_count": 9,
   "id": "0d2cd08d-852f-4f20-b3f4-5a18cdf8189b",
   "metadata": {},
   "outputs": [],
   "source": [
    "with open(\"./mnist.tflite\", \"wb\") as f:\n",
    "    f.write(tflite_model)"
   ]
  },
  {
   "cell_type": "code",
   "execution_count": 10,
   "id": "102cb4bb-d5b5-41a0-a382-2c3ac4013c73",
   "metadata": {},
   "outputs": [
    {
     "name": "stdout",
     "output_type": "stream",
     "text": [
      "INFO:tensorflow:Assets written to: ./mlp_model2/assets\n"
     ]
    },
    {
     "name": "stderr",
     "output_type": "stream",
     "text": [
      "INFO:tensorflow:Assets written to: ./mlp_model2/assets\n"
     ]
    }
   ],
   "source": [
    "mlp_model.save(\"./mlp_model2/\")"
   ]
  },
  {
   "cell_type": "code",
   "execution_count": 11,
   "id": "6602042e-ca05-42e6-8d43-e802e4b5820e",
   "metadata": {},
   "outputs": [],
   "source": [
    "saved_model = tf.keras.models.load_model(\"./mlp_model2/\")"
   ]
  },
  {
   "cell_type": "code",
   "execution_count": 12,
   "id": "8f9a471c-1dd9-4fb9-9b16-e3e3cdd744db",
   "metadata": {},
   "outputs": [],
   "source": [
    "converter = tf .lite.TFLiteConverter.from_saved_model(\"./mlp_model2/\")"
   ]
  },
  {
   "cell_type": "code",
   "execution_count": 13,
   "id": "69c19422-91d8-4ba4-944c-15c0cfb325ef",
   "metadata": {},
   "outputs": [],
   "source": [
    "tflite_model = converter.convert()"
   ]
  },
  {
   "cell_type": "code",
   "execution_count": 14,
   "id": "0ea858c8-401a-467a-8a58-08041fbbda02",
   "metadata": {},
   "outputs": [],
   "source": [
    "with open(\"./saved_model.tflite\", \"wb\") as f:\n",
    "    f.write(tflite_model)"
   ]
  },
  {
   "cell_type": "code",
   "execution_count": 15,
   "id": "ead35d71-9754-4e16-af75-ed797b912677",
   "metadata": {},
   "outputs": [],
   "source": [
    "class Inc(tf.keras.layers.Layer):\n",
    "    def call(self, inputs):\n",
    "        return inputs +1\n",
    "\n",
    "inc = Inc()"
   ]
  },
  {
   "cell_type": "code",
   "execution_count": 16,
   "id": "7c4115ed-4d95-456e-a779-315ae4a8b114",
   "metadata": {},
   "outputs": [],
   "source": [
    "class Inc_Graph(tf.keras.layers.Layer):\n",
    "    @tf.function\n",
    "    def call(self, inputs):\n",
    "        return inputs + 1\n",
    "\n",
    "inc_g = Inc_Graph()"
   ]
  },
  {
   "cell_type": "code",
   "execution_count": 17,
   "id": "d11f7100-314e-465b-842d-ab43637d7be2",
   "metadata": {},
   "outputs": [],
   "source": [
    "inc_g2 = tf.function(inc)"
   ]
  },
  {
   "cell_type": "code",
   "execution_count": 18,
   "id": "92e7c2e9-b979-428c-a735-04044d1b07be",
   "metadata": {},
   "outputs": [
    {
     "name": "stdout",
     "output_type": "stream",
     "text": [
      "tf.Tensor(4, shape=(), dtype=int32)\n",
      "tf.Tensor([4 3], shape=(2,), dtype=int32)\n",
      "tf.Tensor(\n",
      "[[4. 3.]\n",
      " [2. 6.]], shape=(2, 2), dtype=float32)\n",
      "tf.Tensor(4, shape=(), dtype=int32)\n",
      "tf.Tensor([4 3], shape=(2,), dtype=int32)\n",
      "tf.Tensor(\n",
      "[[4. 3.]\n",
      " [2. 6.]], shape=(2, 2), dtype=float32)\n"
     ]
    }
   ],
   "source": [
    "print(inc_g(tf.constant(3)))\n",
    "print(inc_g(tf.constant([3,2])))\n",
    "print(inc_g(tf.constant([[3,2],[1.0,5.0]])))\n",
    "\n",
    "print(inc_g2(tf.constant(3)))\n",
    "print(inc_g2(tf.constant([3,2])))\n",
    "print(inc_g2(tf.constant([[3,2],[1.0,5.0]])))"
   ]
  },
  {
   "cell_type": "code",
   "execution_count": 19,
   "id": "3afd8a9b-b097-4751-8688-79314a586ded",
   "metadata": {},
   "outputs": [
    {
     "name": "stdout",
     "output_type": "stream",
     "text": [
      "tf.Tensor(5, shape=(), dtype=int32)\n",
      "tf.Tensor(5, shape=(), dtype=int32)\n"
     ]
    }
   ],
   "source": [
    "print(inc_g(tf.constant(4)))\n",
    "print(inc_g2(tf.constant(4)))"
   ]
  },
  {
   "cell_type": "code",
   "execution_count": 20,
   "id": "55944e46-67c1-40d3-b3e8-97ed6213c7c1",
   "metadata": {},
   "outputs": [
    {
     "name": "stdout",
     "output_type": "stream",
     "text": [
      "tf.Tensor([[2. 3. 4.]], shape=(1, 3), dtype=float32)\n"
     ]
    }
   ],
   "source": [
    "concrete_fun = inc_g.call.get_concrete_function(tf.TensorSpec(shape=(1,3), dtype=tf.float32))\n",
    "print(concrete_fun(tf.constant([[1.0,2.0,3.0]])))"
   ]
  },
  {
   "cell_type": "code",
   "execution_count": 21,
   "id": "e4edd783-e8e0-4f12-9aae-2af3203769fc",
   "metadata": {},
   "outputs": [
    {
     "name": "stdout",
     "output_type": "stream",
     "text": [
      "tf.Tensor([[2. 3. 4.]], shape=(1, 3), dtype=float32)\n"
     ]
    }
   ],
   "source": [
    "concrete_fun = inc_g2.get_concrete_function(tf.TensorSpec(shape=(1,3), dtype=tf.float32))\n",
    "print(concrete_fun(tf.constant([[1.0,2.0,3.0]])))"
   ]
  },
  {
   "cell_type": "code",
   "execution_count": 22,
   "id": "ca9752c8-5172-486b-b061-a681f251e1b1",
   "metadata": {},
   "outputs": [],
   "source": [
    "mlp_model = tf.keras.models.Sequential([\n",
    "    tf.keras.layers.Flatten(input_shape=(28,28)),\n",
    "    tf.keras.layers.Dense(128, activation=\"relu\"),\n",
    "    tf.keras.layers.Dense(10, activation=\"softmax\")\n",
    "])"
   ]
  },
  {
   "cell_type": "code",
   "execution_count": 23,
   "id": "13b1ff93-fd09-458a-9372-68cea4e63c0e",
   "metadata": {},
   "outputs": [],
   "source": [
    "graph_model = tf.function(mlp_model)\n",
    "concrete_func = graph_model.get_concrete_function(\n",
    "    tf.TensorSpec(shape=mlp_model.inputs[0].shape, dtype=mlp_model.inputs[0].dtype))"
   ]
  },
  {
   "cell_type": "code",
   "execution_count": 24,
   "id": "f3424ae6-9ac6-49c9-9714-4eac6ca1da98",
   "metadata": {},
   "outputs": [],
   "source": [
    "# class MLP_Model(tf.keras.Model):\n",
    "#     def __init__(self):\n",
    "#         super(MLP_Model, self).__init__()\n",
    "#         self.flatten = tf.keras.layers.Flatten()\n",
    "#         self.dense = tf.keras.layers.Dense(128, activation=\"relu\")\n",
    "#         self.softmax = tf.keras.layers.Dense(10, activation=\"softmax\")\n",
    "\n",
    "#     @tf.function\n",
    "#     def call(self, inputs):\n",
    "#         x = self.flatten(inputs)\n",
    "#         x = self.dense(x)\n",
    "#         return self.softmax(x)\n",
    "\n",
    "# mlp_model = MLP_Model()\n",
    "# concrete_func = mlp_model.call.get_concrete_function(\n",
    "#     tf.TensorSpec(shape=mlp_model.inputs[0].shape, dtype=mlp_model.inputs[0].dtype))"
   ]
  },
  {
   "cell_type": "code",
   "execution_count": null,
   "id": "248e0b52-5faa-430d-a9ba-e78ff43a4ee2",
   "metadata": {},
   "outputs": [],
   "source": []
  }
 ],
 "metadata": {
  "kernelspec": {
   "display_name": "Python 3 (ipykernel)",
   "language": "python",
   "name": "python3"
  },
  "language_info": {
   "codemirror_mode": {
    "name": "ipython",
    "version": 3
   },
   "file_extension": ".py",
   "mimetype": "text/x-python",
   "name": "python",
   "nbconvert_exporter": "python",
   "pygments_lexer": "ipython3",
   "version": "3.8.17"
  }
 },
 "nbformat": 4,
 "nbformat_minor": 5
}
