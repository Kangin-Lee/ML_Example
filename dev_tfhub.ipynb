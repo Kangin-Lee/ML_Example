{
 "cells": [
  {
   "cell_type": "code",
   "execution_count": 1,
   "id": "d2c4b7a2-70e8-4845-8d46-c1543a338472",
   "metadata": {},
   "outputs": [],
   "source": [
    "import tensorflow_datasets as tfds\n",
    "tfds.disable_progress_bar()"
   ]
  },
  {
   "cell_type": "code",
   "execution_count": 2,
   "id": "16371fad-8e80-4d94-908d-4ddea22a3614",
   "metadata": {},
   "outputs": [],
   "source": [
    "raw_train, raw_test = tfds.load(\n",
    "    \"cats_vs_dogs\",\n",
    "    split=[\"train[:80%]\", \"train[20%:]\"],\n",
    "    as_supervised=True\n",
    ")"
   ]
  },
  {
   "cell_type": "code",
   "execution_count": 3,
   "id": "03bc4797-ac72-4722-9586-579b012b433e",
   "metadata": {},
   "outputs": [],
   "source": [
    "import numpy as np\n",
    "import tensorflow as tf"
   ]
  },
  {
   "cell_type": "code",
   "execution_count": 4,
   "id": "84edbb74-dd67-4643-9f3e-74de8b438890",
   "metadata": {},
   "outputs": [],
   "source": [
    "def preprocess(image, label):\n",
    "    out_image = tf.image.resize(image/255, [224,224])\n",
    "    return out_image, label\n",
    "batch_size = 32\n",
    "train_batch = raw_train.map(preprocess).batch(batch_size)\n",
    "test_batch = raw_test.map(preprocess).batch(batch_size)"
   ]
  },
  {
   "cell_type": "code",
   "execution_count": 5,
   "id": "188cb83c-1529-49be-b372-1fe44c3dca15",
   "metadata": {},
   "outputs": [
    {
     "name": "stdout",
     "output_type": "stream",
     "text": [
      "Requirement already satisfied: tensorflow-hub in c:\\users\\computer\\anaconda3\\envs\\tf2\\lib\\site-packages (0.14.0)\n",
      "Requirement already satisfied: numpy>=1.12.0 in c:\\users\\computer\\anaconda3\\envs\\tf2\\lib\\site-packages (from tensorflow-hub) (1.24.3)\n",
      "Requirement already satisfied: protobuf>=3.19.6 in c:\\users\\computer\\anaconda3\\envs\\tf2\\lib\\site-packages (from tensorflow-hub) (3.20.3)\n",
      "Note: you may need to restart the kernel to use updated packages.\n"
     ]
    },
    {
     "name": "stderr",
     "output_type": "stream",
     "text": [
      "WARNING: Ignoring invalid distribution -rotobuf (c:\\users\\computer\\anaconda3\\envs\\tf2\\lib\\site-packages)\n",
      "WARNING: Ignoring invalid distribution -rotobuf (c:\\users\\computer\\anaconda3\\envs\\tf2\\lib\\site-packages)\n"
     ]
    }
   ],
   "source": [
    "pip install tensorflow-hub"
   ]
  },
  {
   "cell_type": "code",
   "execution_count": 6,
   "id": "7433ba0e-6bcb-4211-adc1-64c5f2226f89",
   "metadata": {},
   "outputs": [],
   "source": [
    "import tensorflow_hub as hub\n",
    "\n",
    "url = \"https://tfhub.dev/google/imagenet/mobilenet_v2_100_224/feature_vector/5\"\n",
    "\n",
    "hub_model_transfer = tf.keras.Sequential([\n",
    "    hub.KerasLayer(url, input_shape=(224,224,3), trainable = False),\n",
    "    tf.keras.layers.Dense(1)\n",
    "])"
   ]
  },
  {
   "cell_type": "code",
   "execution_count": 7,
   "id": "a084c6ca-f9d8-4c1b-b146-e3edd1572358",
   "metadata": {},
   "outputs": [],
   "source": [
    "hub_model_transfer.compile(optimizer=\"adam\",\n",
    "                           loss = \"binary_crossentropy\",\n",
    "                           metrics=[\"accuracy\"])"
   ]
  },
  {
   "cell_type": "code",
   "execution_count": 8,
   "id": "ca65c842-4594-4d6f-8b0e-779f2ba3831c",
   "metadata": {},
   "outputs": [
    {
     "name": "stdout",
     "output_type": "stream",
     "text": [
      "582/582 [==============================] - 336s 572ms/step - loss: 0.4952 - accuracy: 0.9385\n"
     ]
    },
    {
     "data": {
      "text/plain": [
       "<keras.src.callbacks.History at 0x2b3d2566a00>"
      ]
     },
     "execution_count": 8,
     "metadata": {},
     "output_type": "execute_result"
    }
   ],
   "source": [
    "hub_model_transfer.fit(train_batch, epochs = 1)"
   ]
  },
  {
   "cell_type": "code",
   "execution_count": 10,
   "id": "74fdfdeb-bff1-44c0-b43b-90acfdf59211",
   "metadata": {},
   "outputs": [
    {
     "name": "stdout",
     "output_type": "stream",
     "text": [
      "582/582 - 273s - loss: 0.2028 - accuracy: 0.9752 - 273s/epoch - 469ms/step\n"
     ]
    },
    {
     "data": {
      "text/plain": [
       "[0.20276306569576263, 0.9752283692359924]"
      ]
     },
     "execution_count": 10,
     "metadata": {},
     "output_type": "execute_result"
    }
   ],
   "source": [
    "hub_model_transfer.evaluate(test_batch, verbose=2)"
   ]
  },
  {
   "cell_type": "code",
   "execution_count": null,
   "id": "352cdbd1-3967-4a59-9f1f-4c1fce66434b",
   "metadata": {},
   "outputs": [],
   "source": []
  }
 ],
 "metadata": {
  "kernelspec": {
   "display_name": "Python 3 (ipykernel)",
   "language": "python",
   "name": "python3"
  },
  "language_info": {
   "codemirror_mode": {
    "name": "ipython",
    "version": 3
   },
   "file_extension": ".py",
   "mimetype": "text/x-python",
   "name": "python",
   "nbconvert_exporter": "python",
   "pygments_lexer": "ipython3",
   "version": "3.8.17"
  }
 },
 "nbformat": 4,
 "nbformat_minor": 5
}
